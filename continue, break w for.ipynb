{
 "cells": [
  {
   "cell_type": "markdown",
   "metadata": {},
   "source": [
    "## Continue i Break w pętli For..."
   ]
  },
  {
   "cell_type": "markdown",
   "metadata": {},
   "source": [
    "w tym **notebooku** chciałbym zapisać działanie derektyw `continue` i `brak` i ich współpracy z dyrektywą `else:`"
   ]
  },
  {
   "cell_type": "code",
   "execution_count": 22,
   "metadata": {
    "scrolled": true
   },
   "outputs": [
    {
     "name": "stdout",
     "output_type": "stream",
     "text": [
      "1<\n",
      "2> jest parzyste\n",
      "2<\n",
      "3>\n",
      "3<\n",
      "4> jest parzyste\n",
      "4<\n",
      "5>\n",
      "5<\n",
      "6> jest parzyste\n",
      "6<\n",
      "7>\n",
      "7<\n",
      "8> jest parzyste\n",
      "8<\n",
      "9>\n",
      "9<\n",
      "10> jest parzyste\n",
      "Nie udało się ur. pętli\n",
      "Koniec bloku\n"
     ]
    }
   ],
   "source": [
    "a = 1\n",
    "b = 5\n",
    "while a < 10:\n",
    "    print (str(a) + \"<\")\n",
    "    a +=1\n",
    "    if a%2 == 0:\n",
    "        print (str(a) + \"> jest parzyste\")\n",
    "        continue # idzie od razu do końca pętli i sprawdza else\n",
    "    else:\n",
    "        print (str(a) + \">\") \n",
    "        continue # idzie od razu do końca pętli i sprawdza else\n",
    "    if a > b:\n",
    "        print (str(a) + \"> większe od 5\")\n",
    "        break # przerywa pętle i nie wykonuje else:\n",
    "else:\n",
    "    print (\"Nie udało się ur. pętli\")\n",
    "print (\"Koniec bloku\")"
   ]
  },
  {
   "cell_type": "markdown",
   "metadata": {},
   "source": [
    "W tym przypadku `contninue` powoduje od razu skok do dyrektywy `else` i sprawdzenie warunku w `while` i tym samym **zupełne pominięcie** warunku \n",
    "```python\n",
    "if a > b:\n",
    "```"
   ]
  },
  {
   "cell_type": "code",
   "execution_count": 11,
   "metadata": {},
   "outputs": [
    {
     "name": "stdout",
     "output_type": "stream",
     "text": [
      "1<\n",
      "2> jest parzyste\n",
      "2<\n",
      "3>\n",
      "3<\n",
      "4> jest parzyste\n",
      "4<\n",
      "5>\n",
      "5<\n",
      "6> jest parzyste\n",
      "6> większe od 5\n",
      "Koniec bloku\n"
     ]
    }
   ],
   "source": [
    "a = 1\n",
    "b = 5\n",
    "while a < 10:\n",
    "    print (str(a) + \"<\")\n",
    "    a +=1\n",
    "    if a%2 == 0:\n",
    "        print (str(a) + \"> jest parzyste\") # nie idzie do konca, tylko bada następny warunek if\n",
    "        # continue # idzie od razu do końca pętli i sprawdza else\n",
    "    else:\n",
    "        print (str(a) + \">\") # nie idzie do konca, tylko bada następny warunek if\n",
    "        # continue # idzie od razu do końca pętli i sprawdza else\n",
    "    if a > b:\n",
    "        print (str(a) + \"> większe od 5\")\n",
    "        break # przerywa pętle i nie wykonuje else:\n",
    "else:\n",
    "    print (\"Nie udało się ur. pętli\")\n",
    "print (\"Koniec bloku\")"
   ]
  },
  {
   "cell_type": "markdown",
   "metadata": {},
   "source": [
    "wyremowanie `continue` powoduje, że warunek `if a > b:` jest widoczny i może być wykonany.\n",
    "\n",
    "Jednocześnie wykonanie `break` powoduje **nie wykonanie** dyrektywy `else:`\n"
   ]
  }
 ],
 "metadata": {
  "kernelspec": {
   "display_name": "Python 3",
   "language": "python",
   "name": "python3"
  },
  "language_info": {
   "codemirror_mode": {
    "name": "ipython",
    "version": 3
   },
   "file_extension": ".py",
   "mimetype": "text/x-python",
   "name": "python",
   "nbconvert_exporter": "python",
   "pygments_lexer": "ipython3",
   "version": "3.7.3"
  }
 },
 "nbformat": 4,
 "nbformat_minor": 2
}
